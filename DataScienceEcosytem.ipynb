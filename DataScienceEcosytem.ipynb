{
 "cells": [
  {
   "cell_type": "markdown",
   "id": "7fe775be",
   "metadata": {},
   "source": [
    "#  Data Science Tools and Ecosystem"
   ]
  },
  {
   "cell_type": "markdown",
   "id": "5c140140",
   "metadata": {},
   "source": [
    "**Objective:** "
   ]
  },
  {
   "cell_type": "markdown",
   "id": "53031c25",
   "metadata": {},
   "source": [
    "In this notebook, Data Science Tools and Ecosystem are summarized"
   ]
  },
  {
   "cell_type": "markdown",
   "id": "626b470c",
   "metadata": {},
   "source": [
    "Some of the popular languages that Data Scientists use are: \n",
    "* Python \n",
    "* R \n",
    "* Java"
   ]
  },
  {
   "cell_type": "markdown",
   "id": "e69cb0ff",
   "metadata": {},
   "source": [
    "Some of the commonly used libraries used by Data Scienctist include: \n",
    "* matplotlib \n",
    "* pandas \n",
    "* numpy"
   ]
  },
  {
   "cell_type": "markdown",
   "id": "fe86b4d7",
   "metadata": {},
   "source": [
    "# Data Science Tools"
   ]
  },
  {
   "cell_type": "markdown",
   "id": "442d5199",
   "metadata": {},
   "source": [
    "\n",
    "|TOOLS|\n",
    "|-----|\n",
    "|MySQL|\n",
    "|Apache AirFlow|\n",
    "|Github|\n"
   ]
  },
  {
   "cell_type": "markdown",
   "id": "3053f9e9",
   "metadata": {},
   "source": [
    "# Below are a few examples of evaluating arithmetic expression in Python"
   ]
  },
  {
   "cell_type": "code",
   "execution_count": 2,
   "id": "8e34d2d5",
   "metadata": {},
   "outputs": [
    {
     "name": "stdout",
     "output_type": "stream",
     "text": [
      "17\n"
     ]
    }
   ],
   "source": [
    "a = 3 * 4 + 5\n",
    "# This is a simple arithmetic expression to mutiply then add integers\n",
    "print(a)"
   ]
  },
  {
   "cell_type": "code",
   "execution_count": 4,
   "id": "dd882d6b",
   "metadata": {},
   "outputs": [
    {
     "name": "stdout",
     "output_type": "stream",
     "text": [
      "200 minutes is converted to 3.3333333333333335 hours\n"
     ]
    }
   ],
   "source": [
    "print(\"200 minutes is converted to {} hours\".format(200/60))\n",
    "# This will convert 200 minutes to hours by diving by 60"
   ]
  },
  {
   "cell_type": "markdown",
   "id": "f45cb33f",
   "metadata": {},
   "source": [
    "# Author"
   ]
  },
  {
   "cell_type": "markdown",
   "id": "4f887694",
   "metadata": {},
   "source": [
    "Do Vu Gia Can"
   ]
  },
  {
   "cell_type": "code",
   "execution_count": null,
   "id": "b0b359ab",
   "metadata": {},
   "outputs": [],
   "source": []
  }
 ],
 "metadata": {
  "kernelspec": {
   "display_name": "Python 3 (ipykernel)",
   "language": "python",
   "name": "python3"
  },
  "language_info": {
   "codemirror_mode": {
    "name": "ipython",
    "version": 3
   },
   "file_extension": ".py",
   "mimetype": "text/x-python",
   "name": "python",
   "nbconvert_exporter": "python",
   "pygments_lexer": "ipython3",
   "version": "3.7.9"
  }
 },
 "nbformat": 4,
 "nbformat_minor": 5
}
